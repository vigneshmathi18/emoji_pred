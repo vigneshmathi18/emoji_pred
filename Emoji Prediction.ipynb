{
 "cells": [
  {
   "cell_type": "code",
   "execution_count": 65,
   "id": "59d86ffe",
   "metadata": {},
   "outputs": [],
   "source": [
    "import numpy as np\n",
    "import pandas as pd\n",
    "import keras\n",
    "from keras.models import Sequential\n",
    "from keras.layers import Dense, LSTM, SimpleRNN, Embedding\n",
    "from keras.preprocessing.text import Tokenizer\n",
    "from tensorflow.keras.utils import pad_sequences\n",
    "from tensorflow.keras.utils import to_categorical"
   ]
  },
  {
   "cell_type": "code",
   "execution_count": 66,
   "id": "6d012bba",
   "metadata": {},
   "outputs": [
    {
     "data": {
      "text/html": [
       "<div>\n",
       "<style scoped>\n",
       "    .dataframe tbody tr th:only-of-type {\n",
       "        vertical-align: middle;\n",
       "    }\n",
       "\n",
       "    .dataframe tbody tr th {\n",
       "        vertical-align: top;\n",
       "    }\n",
       "\n",
       "    .dataframe thead th {\n",
       "        text-align: right;\n",
       "    }\n",
       "</style>\n",
       "<table border=\"1\" class=\"dataframe\">\n",
       "  <thead>\n",
       "    <tr style=\"text-align: right;\">\n",
       "      <th></th>\n",
       "      <th>0</th>\n",
       "      <th>1</th>\n",
       "    </tr>\n",
       "  </thead>\n",
       "  <tbody>\n",
       "    <tr>\n",
       "      <th>0</th>\n",
       "      <td>French macaroon is so tasty</td>\n",
       "      <td>4</td>\n",
       "    </tr>\n",
       "    <tr>\n",
       "      <th>1</th>\n",
       "      <td>work is horrible</td>\n",
       "      <td>3</td>\n",
       "    </tr>\n",
       "    <tr>\n",
       "      <th>2</th>\n",
       "      <td>I am upset</td>\n",
       "      <td>3</td>\n",
       "    </tr>\n",
       "    <tr>\n",
       "      <th>3</th>\n",
       "      <td>throw the ball</td>\n",
       "      <td>1</td>\n",
       "    </tr>\n",
       "    <tr>\n",
       "      <th>4</th>\n",
       "      <td>Good joke</td>\n",
       "      <td>2</td>\n",
       "    </tr>\n",
       "  </tbody>\n",
       "</table>\n",
       "</div>"
      ],
      "text/plain": [
       "                             0  1\n",
       "0  French macaroon is so tasty  4\n",
       "1             work is horrible  3\n",
       "2                   I am upset  3\n",
       "3               throw the ball  1\n",
       "4                    Good joke  2"
      ]
     },
     "execution_count": 66,
     "metadata": {},
     "output_type": "execute_result"
    }
   ],
   "source": [
    "df=pd.read_csv('emoji_data.csv',header=None)\n",
    "df.head()"
   ]
  },
  {
   "cell_type": "code",
   "execution_count": 67,
   "id": "9dd4b174",
   "metadata": {},
   "outputs": [],
   "source": [
    "import emoji # pip install emoji\n",
    "emoji_dict = {\n",
    "    0: \":red_heart:\",\n",
    "    1: \":baseball:\",\n",
    "    2: \":grinning_face_with_big_eyes:\",\n",
    "    3: \":disappointed_face:\",\n",
    "    4: \":fork_and_knife_with_plate:\"\n",
    "}\n",
    "\n",
    "def label_to_emoji(label):\n",
    "    return emoji.emojize(emoji_dict[label])"
   ]
  },
  {
   "cell_type": "code",
   "execution_count": 68,
   "id": "d2c2dcab",
   "metadata": {},
   "outputs": [
    {
     "data": {
      "text/plain": [
       "'😃'"
      ]
     },
     "execution_count": 68,
     "metadata": {},
     "output_type": "execute_result"
    }
   ],
   "source": [
    "label_to_emoji(2)"
   ]
  },
  {
   "cell_type": "code",
   "execution_count": 69,
   "id": "688a0e65",
   "metadata": {},
   "outputs": [
    {
     "data": {
      "text/plain": [
       "'⚾'"
      ]
     },
     "execution_count": 69,
     "metadata": {},
     "output_type": "execute_result"
    }
   ],
   "source": [
    "label_to_emoji(1)"
   ]
  },
  {
   "cell_type": "code",
   "execution_count": 70,
   "id": "8f5d936b",
   "metadata": {},
   "outputs": [],
   "source": [
    "X = df[0].values\n",
    "Y = df[1].values"
   ]
  },
  {
   "cell_type": "code",
   "execution_count": 71,
   "id": "506f2cd1",
   "metadata": {},
   "outputs": [],
   "source": [
    "#download glove https://nlp.stanford.edu/projects/glove/ \n",
    "f=open('glove.6B.100d.txt','r', encoding = 'utf8')\n",
    "para=f.readlines()\n",
    "f.close()"
   ]
  },
  {
   "cell_type": "code",
   "execution_count": 72,
   "id": "c851991f",
   "metadata": {},
   "outputs": [],
   "source": [
    "embedding={}\n",
    "\n",
    "for sent in para:\n",
    "    sent=sent.split()\n",
    "    embedding[sent[0]] = np.array(sent[1:], dtype = float)"
   ]
  },
  {
   "cell_type": "code",
   "execution_count": 74,
   "id": "a1a460ee",
   "metadata": {},
   "outputs": [],
   "source": [
    "def get_maxlen(data):\n",
    "    maxlen = 0\n",
    "    for sent in data:\n",
    "        maxlen = max(maxlen, len(sent))\n",
    "    return maxlen"
   ]
  },
  {
   "cell_type": "code",
   "execution_count": 75,
   "id": "2c5c0f6d",
   "metadata": {},
   "outputs": [
    {
     "name": "stdout",
     "output_type": "stream",
     "text": [
      "{'i': 1, 'you': 2, 'is': 3, 'the': 4, 'a': 5, 'so': 6, 'am': 7, 'my': 8, 'to': 9, 'this': 10, 'are': 11, 'ha': 12, 'for': 13, 'she': 14, 'he': 15, 'me': 16, 'not': 17, 'love': 18, 'your': 19, 'want': 20, 'have': 21, 'it': 22, 'got': 23, 'like': 24, 'did': 25, 'baseball': 26, 'food': 27, 'was': 28, 'do': 29, 'joke': 30, 'stop': 31, 'will': 32, 'miss': 33, 'life': 34, 'ball': 35, 'good': 36, 'what': 37, 'go': 38, 'job': 39, 'funny': 40, 'bad': 41, 'day': 42, 'great': 43, 'dinner': 44, 'that': 45, 'with': 46, 'at': 47, 'of': 48, 'game': 49, 'we': 50, 'again': 51, 'said': 52, 'yes': 53, 'lol': 54, 'and': 55, 'down': 56, 'had': 57, 'her': 58, 'fun': 59, 'smile': 60, 'lot': 61, 'working': 62, 'him': 63, 'cute': 64, 'on': 65, 'lets': 66, 'messing': 67, 'us': 68, 'play': 69, 'exercise': 70, 'lost': 71, 'never': 72, 'where': 73, 'can': 74, 'well': 75, 'much': 76, 'valentine': 77, 'restaurant': 78, 'awesome': 79, 'likes': 80, 'such': 81, 'shouting': 82, 'proud': 83, 'bravo': 84, 'two': 85, 'forever': 86, 'grader': 87, 'dogs': 88, 'no': 89, 'girl': 90, 'excited': 91, 'by': 92, 'happy': 93, 'eat': 94, 'see': 95, 'long': 96, 'too': 97, 'congratulations': 98, 'answer': 99, 'just': 100, 'baby': 101, 'dance': 102, 'french': 103, 'macaroon': 104, 'tasty': 105, 'work': 106, 'horrible': 107, 'upset': 108, 'throw': 109, 'favorite': 110, 'cooked': 111, 'meat': 112, 'around': 113, 'chinese': 114, 'let': 115, 'failing': 116, 'yesterday': 117, 'cheese': 118, 'cake': 119, 'why': 120, 'feeling': 121, 'party': 122, 'cancelled': 123, 'frustrated': 124, 'raise': 125, 'family': 126, 'all': 127, 'pitch': 128, 'really': 129, 'stars': 130, 'back': 131, 'pizza': 132, 'totally': 133, 'deserve': 134, 'prize': 135, 'jacket': 136, 'present': 137, 'be': 138, 'failed': 139, 'midterm': 140, 'who': 141, 'near': 142, 'anything': 143, 'lovely': 144, 'tonight': 145, 'vegetables': 146, 'healthy': 147, 'friend': 148, 'talk': 149, 'having': 150, 'cannot': 151, 'come': 152, 'join': 153, 'an': 154, 'amazing': 155, 'taking': 156, 'breaks': 157, 'incredibly': 158, 'intelligent': 159, 'talented': 160, 'achievements': 161, 'sad': 162, 'coming': 163, 'saying': 164, 'bullshit': 165, 'announcement': 166, 'traction': 167, 'specialization': 168, 'waiting': 169, 'hours': 170, 'takes': 171, 'get': 172, 'ready': 173, 'grandmother': 174, 'celebrate': 175, 'soon': 176, 'code': 177, 'but': 178, 'gave': 179, 'zero': 180, 'cutest': 181, 'person': 182, 'ever': 183, 'seen': 184, 'laughing': 185, 'adore': 186, 'mum': 187, 'how': 188, 'dare': 189, 'ask': 190, 'guy': 191, 'indian': 192, 'afternoon': 193, 'stupidity': 194, 'has': 195, 'limit': 196, 'dad': 197, 'give': 198, 'hug': 199, 'mean': 200, 'wrong': 201, 'they': 202, 'kind': 203, 'friendly': 204, 'impressed': 205, 'dedication': 206, 'project': 207, 'made': 208, 'ordering': 209, 'sounds': 210, 'plan': 211, 'killing': 212, 'haha': 213, 'qualified': 214, 'position': 215, 'dear': 216, 'after': 217, 'best': 218, 'player': 219, 'moment': 220, 'algorithm': 221, 'performs': 222, 'poorly': 223, 'charming': 224, 'worst': 225, 'in': 226, 'handsome': 227, 'one': 228, 'attractive': 229, 'exam': 230, 'think': 231, 'end': 232, 'up': 233, 'alone': 234, 'together': 235, 'were': 236, 'here': 237, 'loser': 238, 'starving': 239, 'suck': 240, 'could': 241, 'solve': 242, 'wallet': 243, 'text': 244, 'catcher': 245, 'sucks': 246, 'boiled': 247, 'rice': 248, 'candy': 249, 'finished': 250, 'first': 251, 'base': 252, 'man': 253, 'acceptance': 254, 'assignment': 255, 'humiliated': 256, 'sister': 257, 'lectures': 258, 'though': 259, 'homework': 260, 'adorable': 261, 'missed': 262, 'looking': 263, 'date': 264, 'awful': 265, 'any': 266, 'suggestions': 267, 'always': 268, 'grade': 269, 'sushi': 270, 'smiles': 271, 'chicago': 272, 'cubs': 273, 'won': 274, 'approved': 275, 'cookies': 276, 'hate': 277, 'going': 278, 'stadium': 279, 'very': 280, 'disappointed': 281, 'congrats': 282, 'new': 283, 'enjoy': 284, 'break': 285, 'away': 286, 'worked': 287, 'during': 288, 'birthday': 289, 'congratulation': 290, 'fon': 291, 'hungry': 292, 'dearest': 293, 'breakfast': 294, 'dog': 295, 'few': 296, 'puppies': 297, 'make': 298, 'home': 299, 'run': 300, 'serious': 301, 'laugh': 302, 'making': 303, 'stupid': 304, 'boring': 305, 'brighten': 306, 'brunch': 307, 'some': 308, 'bully': 309, 'plays': 310, 'when': 311, 'people': 312}\n"
     ]
    }
   ],
   "source": [
    "tokenizer = Tokenizer()\n",
    "tokenizer.fit_on_texts(X)\n",
    "word2index = tokenizer.word_index\n",
    "print(word2index)"
   ]
  },
  {
   "cell_type": "code",
   "execution_count": 76,
   "id": "1813847c",
   "metadata": {},
   "outputs": [],
   "source": [
    "Xt=tokenizer.texts_to_sequences(X)"
   ]
  },
  {
   "cell_type": "code",
   "execution_count": 77,
   "id": "95483db5",
   "metadata": {},
   "outputs": [
    {
     "name": "stdout",
     "output_type": "stream",
     "text": [
      "10\n"
     ]
    }
   ],
   "source": [
    "maxlen=get_maxlen(Xt)\n",
    "print(maxlen)"
   ]
  },
  {
   "cell_type": "code",
   "execution_count": 78,
   "id": "006eee73",
   "metadata": {},
   "outputs": [],
   "source": [
    "Xtrain = pad_sequences(Xt, maxlen = maxlen,  padding = 'post', truncating = 'post')"
   ]
  },
  {
   "cell_type": "code",
   "execution_count": 79,
   "id": "17c8dc4c",
   "metadata": {},
   "outputs": [
    {
     "data": {
      "text/plain": [
       "(183, 10)"
      ]
     },
     "execution_count": 79,
     "metadata": {},
     "output_type": "execute_result"
    }
   ],
   "source": [
    "Xtrain.shape"
   ]
  },
  {
   "cell_type": "code",
   "execution_count": 80,
   "id": "1911a1b9",
   "metadata": {},
   "outputs": [],
   "source": [
    "Ytrain = to_categorical(Y)"
   ]
  },
  {
   "cell_type": "code",
   "execution_count": 81,
   "id": "e726b43a",
   "metadata": {},
   "outputs": [
    {
     "data": {
      "text/plain": [
       "(183, 5)"
      ]
     },
     "execution_count": 81,
     "metadata": {},
     "output_type": "execute_result"
    }
   ],
   "source": [
    "Ytrain.shape"
   ]
  },
  {
   "cell_type": "markdown",
   "id": "4fbd2452",
   "metadata": {},
   "source": [
    "# Model"
   ]
  },
  {
   "cell_type": "code",
   "execution_count": 83,
   "id": "b3e0ab36",
   "metadata": {},
   "outputs": [
    {
     "name": "stdout",
     "output_type": "stream",
     "text": [
      "(313, 100)\n"
     ]
    }
   ],
   "source": [
    "embed_size=100\n",
    "embedding_matrix = np.zeros((len(word2index)+1, embed_size))\n",
    "print(embedding_matrix.shape)\n",
    "for word, i in word2index.items():\n",
    "    embed_vector = embedding[word]\n",
    "    embedding_matrix[i] = embed_vector"
   ]
  },
  {
   "cell_type": "code",
   "execution_count": 84,
   "id": "a1fcb452",
   "metadata": {},
   "outputs": [
    {
     "data": {
      "text/plain": [
       "array([[ 0.      ,  0.      ,  0.      , ...,  0.      ,  0.      ,\n",
       "         0.      ],\n",
       "       [-0.046539,  0.61966 ,  0.56647 , ..., -0.37616 , -0.032502,\n",
       "         0.8062  ],\n",
       "       [-0.49886 ,  0.76602 ,  0.89751 , ..., -0.41179 ,  0.40539 ,\n",
       "         0.78504 ],\n",
       "       ...,\n",
       "       [-0.46263 ,  0.069864,  0.69095 , ..., -0.29174 ,  0.32041 ,\n",
       "         0.21202 ],\n",
       "       [ 0.073242,  0.11134 ,  0.62281 , ...,  0.53417 , -0.1646  ,\n",
       "        -0.27516 ],\n",
       "       [ 0.29019 ,  0.80497 ,  0.31187 , ..., -0.33603 ,  0.45998 ,\n",
       "        -0.11278 ]])"
      ]
     },
     "execution_count": 84,
     "metadata": {},
     "output_type": "execute_result"
    }
   ],
   "source": [
    "embedding_matrix"
   ]
  },
  {
   "cell_type": "code",
   "execution_count": 85,
   "id": "d6895b41",
   "metadata": {},
   "outputs": [],
   "source": [
    "model = Sequential([\n",
    "    Embedding(input_dim = len(word2index) + 1,\n",
    "              output_dim = embed_size,\n",
    "              input_length = maxlen,\n",
    "              weights = [embedding_matrix],\n",
    "              trainable = False\n",
    "             ),\n",
    "    LSTM(units =32, return_sequences = True),\n",
    "    LSTM(units =16, return_sequences = True),\n",
    "    LSTM(units = 4),\n",
    "    Dense(5,activation = 'softmax')\n",
    "])\n",
    "\n",
    "model.compile(optimizer = 'adam', loss = 'categorical_crossentropy', metrics = ['accuracy'])"
   ]
  },
  {
   "cell_type": "code",
   "execution_count": 86,
   "id": "e1d4b46f",
   "metadata": {},
   "outputs": [
    {
     "name": "stdout",
     "output_type": "stream",
     "text": [
      "Model: \"sequential\"\n",
      "_________________________________________________________________\n",
      " Layer (type)                Output Shape              Param #   \n",
      "=================================================================\n",
      " embedding (Embedding)       (None, 10, 100)           31300     \n",
      "                                                                 \n",
      " lstm (LSTM)                 (None, 10, 32)            17024     \n",
      "                                                                 \n",
      " lstm_1 (LSTM)               (None, 10, 16)            3136      \n",
      "                                                                 \n",
      " lstm_2 (LSTM)               (None, 4)                 336       \n",
      "                                                                 \n",
      " dense (Dense)               (None, 5)                 25        \n",
      "                                                                 \n",
      "=================================================================\n",
      "Total params: 51,821\n",
      "Trainable params: 20,521\n",
      "Non-trainable params: 31,300\n",
      "_________________________________________________________________\n"
     ]
    }
   ],
   "source": [
    "model.summary()"
   ]
  },
  {
   "cell_type": "code",
   "execution_count": 87,
   "id": "5e98205c",
   "metadata": {},
   "outputs": [
    {
     "name": "stdout",
     "output_type": "stream",
     "text": [
      "Epoch 1/100\n",
      "6/6 [==============================] - 10s 23ms/step - loss: 1.5954 - accuracy: 0.2951\n",
      "Epoch 2/100\n",
      "6/6 [==============================] - 0s 19ms/step - loss: 1.5508 - accuracy: 0.3169\n",
      "Epoch 3/100\n",
      "6/6 [==============================] - 0s 17ms/step - loss: 1.5292 - accuracy: 0.3333\n",
      "Epoch 4/100\n",
      "6/6 [==============================] - 0s 16ms/step - loss: 1.5106 - accuracy: 0.3989\n",
      "Epoch 5/100\n",
      "6/6 [==============================] - 0s 9ms/step - loss: 1.4939 - accuracy: 0.4372\n",
      "Epoch 6/100\n",
      "6/6 [==============================] - 0s 9ms/step - loss: 1.4670 - accuracy: 0.3716\n",
      "Epoch 7/100\n",
      "6/6 [==============================] - 0s 9ms/step - loss: 1.4325 - accuracy: 0.4372\n",
      "Epoch 8/100\n",
      "6/6 [==============================] - 0s 9ms/step - loss: 1.3967 - accuracy: 0.4590\n",
      "Epoch 9/100\n",
      "6/6 [==============================] - 0s 10ms/step - loss: 1.3527 - accuracy: 0.5137\n",
      "Epoch 10/100\n",
      "6/6 [==============================] - 0s 9ms/step - loss: 1.3081 - accuracy: 0.5082\n",
      "Epoch 11/100\n",
      "6/6 [==============================] - 0s 9ms/step - loss: 1.2720 - accuracy: 0.5301\n",
      "Epoch 12/100\n",
      "6/6 [==============================] - 0s 9ms/step - loss: 1.2303 - accuracy: 0.5519\n",
      "Epoch 13/100\n",
      "6/6 [==============================] - 0s 8ms/step - loss: 1.1875 - accuracy: 0.5574\n",
      "Epoch 14/100\n",
      "6/6 [==============================] - 0s 8ms/step - loss: 1.1509 - accuracy: 0.5792\n",
      "Epoch 15/100\n",
      "6/6 [==============================] - 0s 13ms/step - loss: 1.1045 - accuracy: 0.5902\n",
      "Epoch 16/100\n",
      "6/6 [==============================] - 0s 9ms/step - loss: 1.0535 - accuracy: 0.6557\n",
      "Epoch 17/100\n",
      "6/6 [==============================] - 0s 10ms/step - loss: 1.0246 - accuracy: 0.6175\n",
      "Epoch 18/100\n",
      "6/6 [==============================] - 0s 10ms/step - loss: 0.9848 - accuracy: 0.6448\n",
      "Epoch 19/100\n",
      "6/6 [==============================] - 0s 9ms/step - loss: 0.9479 - accuracy: 0.6776\n",
      "Epoch 20/100\n",
      "6/6 [==============================] - 0s 9ms/step - loss: 0.9256 - accuracy: 0.6721\n",
      "Epoch 21/100\n",
      "6/6 [==============================] - 0s 9ms/step - loss: 0.9087 - accuracy: 0.6776\n",
      "Epoch 22/100\n",
      "6/6 [==============================] - 0s 9ms/step - loss: 0.8618 - accuracy: 0.7213\n",
      "Epoch 23/100\n",
      "6/6 [==============================] - 0s 9ms/step - loss: 0.8388 - accuracy: 0.6995\n",
      "Epoch 24/100\n",
      "6/6 [==============================] - 0s 9ms/step - loss: 0.8290 - accuracy: 0.6995\n",
      "Epoch 25/100\n",
      "6/6 [==============================] - 0s 9ms/step - loss: 0.7992 - accuracy: 0.7158\n",
      "Epoch 26/100\n",
      "6/6 [==============================] - 0s 9ms/step - loss: 0.7772 - accuracy: 0.6940\n",
      "Epoch 27/100\n",
      "6/6 [==============================] - 0s 9ms/step - loss: 0.7887 - accuracy: 0.6995\n",
      "Epoch 28/100\n",
      "6/6 [==============================] - 0s 9ms/step - loss: 0.7982 - accuracy: 0.6831\n",
      "Epoch 29/100\n",
      "6/6 [==============================] - 0s 9ms/step - loss: 0.7548 - accuracy: 0.7213\n",
      "Epoch 30/100\n",
      "6/6 [==============================] - 0s 8ms/step - loss: 0.7249 - accuracy: 0.7541\n",
      "Epoch 31/100\n",
      "6/6 [==============================] - 0s 8ms/step - loss: 0.7117 - accuracy: 0.7322\n",
      "Epoch 32/100\n",
      "6/6 [==============================] - 0s 9ms/step - loss: 0.6846 - accuracy: 0.7541\n",
      "Epoch 33/100\n",
      "6/6 [==============================] - 0s 8ms/step - loss: 0.6786 - accuracy: 0.7705\n",
      "Epoch 34/100\n",
      "6/6 [==============================] - 0s 8ms/step - loss: 0.6649 - accuracy: 0.7486\n",
      "Epoch 35/100\n",
      "6/6 [==============================] - 0s 9ms/step - loss: 0.6511 - accuracy: 0.7705\n",
      "Epoch 36/100\n",
      "6/6 [==============================] - 0s 9ms/step - loss: 0.6553 - accuracy: 0.7541\n",
      "Epoch 37/100\n",
      "6/6 [==============================] - 0s 9ms/step - loss: 0.6124 - accuracy: 0.8087\n",
      "Epoch 38/100\n",
      "6/6 [==============================] - 0s 9ms/step - loss: 0.5954 - accuracy: 0.8033\n",
      "Epoch 39/100\n",
      "6/6 [==============================] - 0s 9ms/step - loss: 0.5803 - accuracy: 0.8087\n",
      "Epoch 40/100\n",
      "6/6 [==============================] - 0s 10ms/step - loss: 0.5644 - accuracy: 0.8251\n",
      "Epoch 41/100\n",
      "6/6 [==============================] - 0s 9ms/step - loss: 0.5493 - accuracy: 0.8306\n",
      "Epoch 42/100\n",
      "6/6 [==============================] - 0s 9ms/step - loss: 0.5319 - accuracy: 0.8525\n",
      "Epoch 43/100\n",
      "6/6 [==============================] - 0s 9ms/step - loss: 0.5159 - accuracy: 0.8852\n",
      "Epoch 44/100\n",
      "6/6 [==============================] - 0s 9ms/step - loss: 0.4954 - accuracy: 0.9180\n",
      "Epoch 45/100\n",
      "6/6 [==============================] - 0s 9ms/step - loss: 0.4832 - accuracy: 0.9399\n",
      "Epoch 46/100\n",
      "6/6 [==============================] - 0s 9ms/step - loss: 0.4700 - accuracy: 0.9454\n",
      "Epoch 47/100\n",
      "6/6 [==============================] - 0s 9ms/step - loss: 0.4669 - accuracy: 0.9617\n",
      "Epoch 48/100\n",
      "6/6 [==============================] - 0s 8ms/step - loss: 0.4404 - accuracy: 0.9617\n",
      "Epoch 49/100\n",
      "6/6 [==============================] - 0s 8ms/step - loss: 0.4377 - accuracy: 0.9508\n",
      "Epoch 50/100\n",
      "6/6 [==============================] - 0s 9ms/step - loss: 0.4430 - accuracy: 0.9563\n",
      "Epoch 51/100\n",
      "6/6 [==============================] - 0s 9ms/step - loss: 0.4093 - accuracy: 0.9727\n",
      "Epoch 52/100\n",
      "6/6 [==============================] - 0s 9ms/step - loss: 0.4136 - accuracy: 0.9617\n",
      "Epoch 53/100\n",
      "6/6 [==============================] - 0s 8ms/step - loss: 0.4078 - accuracy: 0.9617\n",
      "Epoch 54/100\n",
      "6/6 [==============================] - 0s 9ms/step - loss: 0.3950 - accuracy: 0.9727\n",
      "Epoch 55/100\n",
      "6/6 [==============================] - 0s 8ms/step - loss: 0.3850 - accuracy: 0.9727\n",
      "Epoch 56/100\n",
      "6/6 [==============================] - 0s 8ms/step - loss: 0.4006 - accuracy: 0.9563\n",
      "Epoch 57/100\n",
      "6/6 [==============================] - 0s 8ms/step - loss: 0.5387 - accuracy: 0.8852\n",
      "Epoch 58/100\n",
      "6/6 [==============================] - 0s 9ms/step - loss: 0.3916 - accuracy: 0.9617\n",
      "Epoch 59/100\n",
      "6/6 [==============================] - 0s 9ms/step - loss: 0.3991 - accuracy: 0.9290\n",
      "Epoch 60/100\n",
      "6/6 [==============================] - 0s 8ms/step - loss: 0.4144 - accuracy: 0.9344\n",
      "Epoch 61/100\n",
      "6/6 [==============================] - 0s 9ms/step - loss: 0.4315 - accuracy: 0.9180\n",
      "Epoch 62/100\n",
      "6/6 [==============================] - 0s 9ms/step - loss: 0.3391 - accuracy: 0.9727\n",
      "Epoch 63/100\n",
      "6/6 [==============================] - 0s 9ms/step - loss: 0.3443 - accuracy: 0.9781\n",
      "Epoch 64/100\n",
      "6/6 [==============================] - 0s 9ms/step - loss: 0.3271 - accuracy: 0.9781\n",
      "Epoch 65/100\n",
      "6/6 [==============================] - 0s 9ms/step - loss: 0.3183 - accuracy: 0.9781\n",
      "Epoch 66/100\n",
      "6/6 [==============================] - 0s 9ms/step - loss: 0.3087 - accuracy: 0.9891\n",
      "Epoch 67/100\n",
      "6/6 [==============================] - 0s 8ms/step - loss: 0.3006 - accuracy: 0.9891\n",
      "Epoch 68/100\n",
      "6/6 [==============================] - 0s 9ms/step - loss: 0.2959 - accuracy: 0.9891\n",
      "Epoch 69/100\n",
      "6/6 [==============================] - 0s 9ms/step - loss: 0.2913 - accuracy: 0.9891\n",
      "Epoch 70/100\n",
      "6/6 [==============================] - 0s 9ms/step - loss: 0.2869 - accuracy: 0.9891\n",
      "Epoch 71/100\n",
      "6/6 [==============================] - 0s 8ms/step - loss: 0.2829 - accuracy: 0.9891\n",
      "Epoch 72/100\n",
      "6/6 [==============================] - 0s 9ms/step - loss: 0.2791 - accuracy: 0.9891\n",
      "Epoch 73/100\n",
      "6/6 [==============================] - 0s 9ms/step - loss: 0.2758 - accuracy: 0.9891\n",
      "Epoch 74/100\n",
      "6/6 [==============================] - 0s 8ms/step - loss: 0.2722 - accuracy: 0.9891\n",
      "Epoch 75/100\n",
      "6/6 [==============================] - 0s 8ms/step - loss: 0.2688 - accuracy: 0.9891\n",
      "Epoch 76/100\n",
      "6/6 [==============================] - 0s 8ms/step - loss: 0.2656 - accuracy: 0.9891\n",
      "Epoch 77/100\n",
      "6/6 [==============================] - 0s 9ms/step - loss: 0.2625 - accuracy: 0.9891\n",
      "Epoch 78/100\n",
      "6/6 [==============================] - 0s 8ms/step - loss: 0.2594 - accuracy: 0.9891\n",
      "Epoch 79/100\n",
      "6/6 [==============================] - 0s 8ms/step - loss: 0.2565 - accuracy: 0.9891\n",
      "Epoch 80/100\n",
      "6/6 [==============================] - 0s 9ms/step - loss: 0.2536 - accuracy: 0.9891\n",
      "Epoch 81/100\n",
      "6/6 [==============================] - 0s 9ms/step - loss: 0.2509 - accuracy: 0.9891\n",
      "Epoch 82/100\n",
      "6/6 [==============================] - 0s 11ms/step - loss: 0.2482 - accuracy: 0.9891\n",
      "Epoch 83/100\n",
      "6/6 [==============================] - 0s 11ms/step - loss: 0.2455 - accuracy: 0.9891\n",
      "Epoch 84/100\n"
     ]
    },
    {
     "name": "stdout",
     "output_type": "stream",
     "text": [
      "6/6 [==============================] - 0s 10ms/step - loss: 0.2428 - accuracy: 0.9891\n",
      "Epoch 85/100\n",
      "6/6 [==============================] - 0s 11ms/step - loss: 0.2403 - accuracy: 0.9891\n",
      "Epoch 86/100\n",
      "6/6 [==============================] - 0s 8ms/step - loss: 0.2379 - accuracy: 0.9891\n",
      "Epoch 87/100\n",
      "6/6 [==============================] - 0s 11ms/step - loss: 0.2354 - accuracy: 0.9891\n",
      "Epoch 88/100\n",
      "6/6 [==============================] - 0s 10ms/step - loss: 0.2329 - accuracy: 0.9891\n",
      "Epoch 89/100\n",
      "6/6 [==============================] - 0s 11ms/step - loss: 0.2306 - accuracy: 0.9891\n",
      "Epoch 90/100\n",
      "6/6 [==============================] - 0s 10ms/step - loss: 0.2282 - accuracy: 0.9891\n",
      "Epoch 91/100\n",
      "6/6 [==============================] - 0s 9ms/step - loss: 0.2260 - accuracy: 0.9891\n",
      "Epoch 92/100\n",
      "6/6 [==============================] - 0s 9ms/step - loss: 0.2238 - accuracy: 0.9891\n",
      "Epoch 93/100\n",
      "6/6 [==============================] - 0s 9ms/step - loss: 0.2216 - accuracy: 0.9891\n",
      "Epoch 94/100\n",
      "6/6 [==============================] - 0s 9ms/step - loss: 0.2194 - accuracy: 0.9891\n",
      "Epoch 95/100\n",
      "6/6 [==============================] - 0s 9ms/step - loss: 0.2172 - accuracy: 0.9891\n",
      "Epoch 96/100\n",
      "6/6 [==============================] - 0s 9ms/step - loss: 0.2151 - accuracy: 0.9891\n",
      "Epoch 97/100\n",
      "6/6 [==============================] - 0s 9ms/step - loss: 0.2130 - accuracy: 0.9891\n",
      "Epoch 98/100\n",
      "6/6 [==============================] - 0s 9ms/step - loss: 0.2109 - accuracy: 0.9891\n",
      "Epoch 99/100\n",
      "6/6 [==============================] - 0s 9ms/step - loss: 0.2086 - accuracy: 0.9891\n",
      "Epoch 100/100\n",
      "6/6 [==============================] - 0s 9ms/step - loss: 0.2073 - accuracy: 0.9891\n"
     ]
    }
   ],
   "source": [
    "device = '/device:GPU:0'   #using Gpu for paced training\n",
    "with tf.device(device):\n",
    "    model.fit(Xtrain, Ytrain, epochs = 100)"
   ]
  },
  {
   "cell_type": "code",
   "execution_count": 96,
   "id": "fc3e6dd7",
   "metadata": {},
   "outputs": [],
   "source": [
    "test = [\"I feel good about this\", \"I  feel bad\", \"lets play ball\"]\n",
    "test_seq = tokenizer.texts_to_sequences(test)\n",
    "Xtest = pad_sequences(test_seq, maxlen = maxlen, padding = 'post', truncating = 'post')"
   ]
  },
  {
   "cell_type": "code",
   "execution_count": 97,
   "id": "30898b83",
   "metadata": {},
   "outputs": [
    {
     "name": "stdout",
     "output_type": "stream",
     "text": [
      "1/1 [==============================] - 0s 16ms/step\n"
     ]
    }
   ],
   "source": [
    "y_pred=model.predict(Xtest)"
   ]
  },
  {
   "cell_type": "code",
   "execution_count": 98,
   "id": "d5ef414f",
   "metadata": {},
   "outputs": [
    {
     "data": {
      "text/plain": [
       "array([[0.06868643, 0.00900121, 0.6156069 , 0.29306695, 0.01363848],\n",
       "       [0.09808474, 0.01143513, 0.03805294, 0.85148346, 0.00094375],\n",
       "       [0.1048284 , 0.74118423, 0.00294657, 0.05156041, 0.09948037]],\n",
       "      dtype=float32)"
      ]
     },
     "execution_count": 98,
     "metadata": {},
     "output_type": "execute_result"
    }
   ],
   "source": [
    "y_pred"
   ]
  },
  {
   "cell_type": "code",
   "execution_count": 99,
   "id": "8c766d91",
   "metadata": {},
   "outputs": [
    {
     "name": "stdout",
     "output_type": "stream",
     "text": [
      "I feel good about this 😃\n",
      "I  feel bad 😞\n",
      "lets play ball ⚾\n"
     ]
    }
   ],
   "source": [
    "y_pred = np.argmax(y_pred, axis = 1)\n",
    "\n",
    "for i in range(len(test)):\n",
    "    print(test[i], label_to_emoji(y_pred[i]))"
   ]
  },
  {
   "cell_type": "code",
   "execution_count": null,
   "id": "52514e32",
   "metadata": {},
   "outputs": [],
   "source": []
  }
 ],
 "metadata": {
  "kernelspec": {
   "display_name": "Python 3 (ipykernel)",
   "language": "python",
   "name": "python3"
  },
  "language_info": {
   "codemirror_mode": {
    "name": "ipython",
    "version": 3
   },
   "file_extension": ".py",
   "mimetype": "text/x-python",
   "name": "python",
   "nbconvert_exporter": "python",
   "pygments_lexer": "ipython3",
   "version": "3.9.12"
  }
 },
 "nbformat": 4,
 "nbformat_minor": 5
}
